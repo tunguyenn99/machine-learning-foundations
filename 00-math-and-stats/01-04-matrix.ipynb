{
 "cells": [
  {
   "cell_type": "markdown",
   "id": "a677daef",
   "metadata": {},
   "source": [
    "# 🧮 Matrix (Ma Trận)\n",
    "\n",
    "---\n",
    "\n",
    "## 📌 Định nghĩa\n",
    "\n",
    "$$\n",
    "\\text{Ma trận là một bảng chữ nhật gồm các phần tử (thường là số) sắp xếp theo hàng và cột.}\n",
    "$$\n",
    "\n",
    "Ký hiệu kích thước:  \n",
    "\n",
    "$$\n",
    "m \\times n \\quad (\\text{m hàng, n cột})\n",
    "$$\n",
    "\n",
    "---\n",
    "\n",
    "## 🧾 Ký hiệu tổng quát\n",
    "\n",
    "$$\n",
    "A =\n",
    "\\begin{bmatrix}\n",
    "a_{11} & a_{12} & \\dots & a_{1n} \\\\\n",
    "a_{21} & a_{22} & \\dots & a_{2n} \\\\\n",
    "\\vdots & \\vdots & \\ddots & \\vdots \\\\\n",
    "a_{m1} & a_{m2} & \\dots & a_{mn}\n",
    "\\end{bmatrix}\n",
    "$$\n",
    "\n",
    "Trong đó:  \n",
    "\n",
    "$$\n",
    "a_{ij} \\ \\text{là phần tử ở hàng } i \\ \\text{và cột } j\n",
    "$$\n",
    "\n",
    "$$\n",
    "1 \\le i \\le m, \\quad 1 \\le j \\le n\n",
    "$$\n",
    "\n",
    "---\n",
    "\n",
    "## 📏 Các loại ma trận thường gặp\n",
    "\n",
    "**Ma trận vuông (Square Matrix)**:  \n",
    "\n",
    "$$\n",
    "m = n\n",
    "$$\n",
    "\n",
    "**Ma trận hàng (Row Matrix)**:  \n",
    "\n",
    "$$\n",
    "m = 1\n",
    "$$\n",
    "\n",
    "**Ma trận cột (Column Matrix)**:  \n",
    "\n",
    "$$\n",
    "n = 1\n",
    "$$\n",
    "\n",
    "**Ma trận không (Zero Matrix)**:  \n",
    "\n",
    "$$\n",
    "a_{ij} = 0 \\quad \\forall i, j\n",
    "$$\n",
    "\n",
    "**Ma trận đường chéo (Diagonal Matrix)**:  \n",
    "\n",
    "$$\n",
    "a_{ij} = 0 \\quad \\text{khi} \\quad i \\ne j\n",
    "$$\n",
    "\n",
    "**Ma trận đơn vị (Identity Matrix)**:  \n",
    "\n",
    "$$\n",
    "a_{ij} =\n",
    "\\begin{cases}\n",
    "1, & i = j \\\\\n",
    "0, & i \\ne j\n",
    "\\end{cases}\n",
    "$$\n",
    "\n",
    "**Ma trận đối xứng (Symmetric Matrix)**:  \n",
    "\n",
    "$$\n",
    "A = A^T\n",
    "$$\n",
    "\n",
    "---\n",
    "\n",
    "## 🔄 Các phép toán cơ bản\n",
    "\n",
    "**1️⃣ Cộng ma trận**  \n",
    "\n",
    "$$\n",
    "C = A + B, \\quad c_{ij} = a_{ij} + b_{ij}\n",
    "$$\n",
    "\n",
    "**2️⃣ Nhân ma trận với số vô hướng**  \n",
    "\n",
    "$$\n",
    "kA = [k \\cdot a_{ij}]\n",
    "$$\n",
    "\n",
    "**3️⃣ Nhân ma trận**  \n",
    "\n",
    "$$\n",
    "\\text{Nếu} \\quad A_{m \\times n}, \\ B_{n \\times p} \\quad \\text{thì}\n",
    "$$\n",
    "\n",
    "$$\n",
    "C = AB, \\quad c_{ij} = \\sum_{k=1}^n a_{ik} b_{kj}\n",
    "$$\n",
    "\n",
    "**4️⃣ Chuyển vị ma trận**  \n",
    "\n",
    "$$\n",
    "A^T: \\quad \\text{đổi hàng thành cột và cột thành hàng}\n",
    "$$\n",
    "\n",
    "---\n",
    "\n",
    "## 💡 Ví dụ\n",
    "\n",
    "Ma trận \\(A\\):  \n",
    "\n",
    "$$\n",
    "A =\n",
    "\\begin{bmatrix}\n",
    "1 & 2 \\\\\n",
    "3 & 4\n",
    "\\end{bmatrix}\n",
    "$$\n",
    "\n",
    "Chuyển vị:  \n",
    "\n",
    "$$\n",
    "A^T =\n",
    "\\begin{bmatrix}\n",
    "1 & 3 \\\\\n",
    "2 & 4\n",
    "\\end{bmatrix}\n",
    "$$\n",
    "\n",
    "Nhân với vector:  \n",
    "\n",
    "$$\n",
    "\\mathbf{x} =\n",
    "\\begin{bmatrix}\n",
    "5 \\\\\n",
    "6\n",
    "\\end{bmatrix}\n",
    "$$\n",
    "\n",
    "$$\n",
    "A \\mathbf{x} =\n",
    "\\begin{bmatrix}\n",
    "1 & 2 \\\\\n",
    "3 & 4\n",
    "\\end{bmatrix}\n",
    "\\begin{bmatrix}\n",
    "5 \\\\\n",
    "6\n",
    "\\end{bmatrix}\n",
    "=\n",
    "\\begin{bmatrix}\n",
    "17 \\\\\n",
    "39\n",
    "\\end{bmatrix}\n",
    "$$\n"
   ]
  },
  {
   "cell_type": "markdown",
   "id": "2b92afcb",
   "metadata": {},
   "source": [
    "# Numpy"
   ]
  },
  {
   "cell_type": "code",
   "execution_count": 1,
   "id": "8448111e",
   "metadata": {},
   "outputs": [],
   "source": [
    "import numpy as np"
   ]
  },
  {
   "cell_type": "code",
   "execution_count": 2,
   "id": "f9757d95",
   "metadata": {},
   "outputs": [
    {
     "data": {
      "text/plain": [
       "array([[25,  2],\n",
       "       [ 5, 26],\n",
       "       [ 3,  7]])"
      ]
     },
     "execution_count": 2,
     "metadata": {},
     "output_type": "execute_result"
    }
   ],
   "source": [
    "x = np.array([[25,2] , [5,26], [3,7]])\n",
    "x"
   ]
  },
  {
   "cell_type": "code",
   "execution_count": null,
   "id": "1765d6b7",
   "metadata": {},
   "outputs": [
    {
     "data": {
      "text/plain": [
       "(3, 2)"
      ]
     },
     "execution_count": 3,
     "metadata": {},
     "output_type": "execute_result"
    }
   ],
   "source": [
    "x.shape"
   ]
  },
  {
   "cell_type": "code",
   "execution_count": 4,
   "id": "c05a5529",
   "metadata": {},
   "outputs": [
    {
     "data": {
      "text/plain": [
       "6"
      ]
     },
     "execution_count": 4,
     "metadata": {},
     "output_type": "execute_result"
    }
   ],
   "source": [
    "x.size"
   ]
  },
  {
   "cell_type": "code",
   "execution_count": null,
   "id": "3db4326c",
   "metadata": {},
   "outputs": [
    {
     "data": {
      "text/plain": [
       "array([25,  5,  3])"
      ]
     },
     "execution_count": 5,
     "metadata": {},
     "output_type": "execute_result"
    }
   ],
   "source": [
    "x[:,0] # Get the first column"
   ]
  },
  {
   "cell_type": "code",
   "execution_count": null,
   "id": "aaf51eb3",
   "metadata": {},
   "outputs": [
    {
     "data": {
      "text/plain": [
       "array([ 5, 26])"
      ]
     },
     "execution_count": 6,
     "metadata": {},
     "output_type": "execute_result"
    }
   ],
   "source": [
    "x[1,:] # Get the second row"
   ]
  },
  {
   "cell_type": "code",
   "execution_count": 7,
   "id": "cab3c2b9",
   "metadata": {},
   "outputs": [
    {
     "data": {
      "text/plain": [
       "array([[25,  2],\n",
       "       [ 5, 26]])"
      ]
     },
     "execution_count": 7,
     "metadata": {},
     "output_type": "execute_result"
    }
   ],
   "source": [
    "x[0:2, 0:2] # Get the first two rows and first two columns"
   ]
  },
  {
   "cell_type": "markdown",
   "id": "0c2fe701",
   "metadata": {},
   "source": [
    "# PyTorch"
   ]
  },
  {
   "cell_type": "code",
   "execution_count": null,
   "id": "7ed1f614",
   "metadata": {},
   "outputs": [],
   "source": [
    "import torch"
   ]
  },
  {
   "cell_type": "code",
   "execution_count": null,
   "id": "31ba7772",
   "metadata": {},
   "outputs": [],
   "source": [
    "x_pt = torch.tensor([[25,2] , [5,26], [3,7]])\n",
    "x_pt"
   ]
  },
  {
   "cell_type": "code",
   "execution_count": null,
   "id": "d80fad12",
   "metadata": {},
   "outputs": [],
   "source": [
    "x_pt.shape"
   ]
  },
  {
   "cell_type": "code",
   "execution_count": null,
   "id": "1a9a2aaf",
   "metadata": {},
   "outputs": [],
   "source": [
    "x_pt[1,:] # Get the second row"
   ]
  },
  {
   "cell_type": "markdown",
   "id": "d14e7b35",
   "metadata": {},
   "source": [
    "# TensorFlow"
   ]
  },
  {
   "cell_type": "code",
   "execution_count": null,
   "id": "ca90458c",
   "metadata": {},
   "outputs": [],
   "source": [
    "import tensorflow as tf"
   ]
  },
  {
   "cell_type": "code",
   "execution_count": null,
   "id": "38a54c21",
   "metadata": {},
   "outputs": [],
   "source": [
    "x_tf = tf.Variable([[25,2] , [5,26], [3,7]])\n",
    "x_tf"
   ]
  },
  {
   "cell_type": "code",
   "execution_count": null,
   "id": "4dfc2c24",
   "metadata": {},
   "outputs": [],
   "source": [
    "tf.rank(x_tf)  # Get the rank of the tensor"
   ]
  },
  {
   "cell_type": "code",
   "execution_count": null,
   "id": "3d7fe6c1",
   "metadata": {},
   "outputs": [],
   "source": [
    "tf.shape(x_tf)  # Get the shape of the tensor"
   ]
  },
  {
   "cell_type": "code",
   "execution_count": null,
   "id": "21369f35",
   "metadata": {},
   "outputs": [],
   "source": [
    "x_tf[1,:]  # Get the second row"
   ]
  }
 ],
 "metadata": {
  "kernelspec": {
   "display_name": "venv (3.8.10)",
   "language": "python",
   "name": "python3"
  },
  "language_info": {
   "codemirror_mode": {
    "name": "ipython",
    "version": 3
   },
   "file_extension": ".py",
   "mimetype": "text/x-python",
   "name": "python",
   "nbconvert_exporter": "python",
   "pygments_lexer": "ipython3",
   "version": "3.8.10"
  }
 },
 "nbformat": 4,
 "nbformat_minor": 5
}
