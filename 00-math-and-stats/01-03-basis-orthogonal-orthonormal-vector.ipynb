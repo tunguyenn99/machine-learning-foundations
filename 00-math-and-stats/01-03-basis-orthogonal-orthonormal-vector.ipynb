{
 "cells": [
  {
   "cell_type": "markdown",
   "id": "7ad33d6c",
   "metadata": {},
   "source": [
    "## 1️⃣ **Basis Vectors (Vector cơ sở)**\n",
    "\n",
    "<img src=\"imgs/01-basis-vector.png\">\n",
    "\n",
    "### 📌 Định nghĩa\n",
    "\n",
    "* Tập hợp **vector cơ sở** của một không gian vector là một nhóm vector:\n",
    "\n",
    "  1. **Tuyến tính độc lập** (linear independent)\n",
    "  2. **Sinh ra toàn bộ không gian** (spans the vector space)\n",
    "\n",
    "### 💡 Ví dụ\n",
    "\n",
    "Trong không gian 2D:\n",
    "\n",
    "* $\\mathbf{e}_1 = [1, 0]$\n",
    "* $\\mathbf{e}_2 = [0, 1]$\n",
    "\n",
    "Bộ $\\{\\mathbf{e}_1, \\mathbf{e}_2\\}$ là **basis** vì:\n",
    "\n",
    "* Không vector nào có thể biểu diễn bằng vector còn lại (tuyến tính độc lập)\n",
    "* Bất kỳ vector 2D nào $\\mathbf{v} = [x, y]$ đều có thể biểu diễn dưới dạng:\n",
    "\n",
    "  $$\n",
    "  \\mathbf{v} = x\\mathbf{e}_1 + y\\mathbf{e}_2\n",
    "  $$\n",
    "\n",
    "---\n",
    "\n",
    "## 2️⃣ **Orthogonal Vectors (Vector trực giao)**\n",
    "\n",
    "### 📌 Định nghĩa\n",
    "\n",
    "* Hai vector $\\mathbf{u}$ và $\\mathbf{v}$ được gọi là **trực giao** nếu tích vô hướng của chúng bằng 0:\n",
    "\n",
    "  $$\n",
    "  \\mathbf{u} \\cdot \\mathbf{v} = 0\n",
    "  $$\n",
    "* Điều này có nghĩa là chúng vuông góc với nhau trong không gian.\n",
    "\n",
    "* Trong không gian n chiều thì có tối đa n vector trực giao với nhau\n",
    "\n",
    "### 💡 Ví dụ\n",
    "\n",
    "* $\\mathbf{u} = [1, 0]$, $\\mathbf{v} = [0, 1]$\n",
    "\n",
    "  $$\n",
    "  \\mathbf{u} \\cdot \\mathbf{v} = 1 \\times 0 + 0 \\times 1 = 0\n",
    "  $$\n",
    "\n",
    "  ⇒ $\\mathbf{u}$ và $\\mathbf{v}$ trực giao.\n",
    "\n",
    "---\n",
    "\n",
    "## 3️⃣ **Orthonormal Vectors (Vector trực giao – chuẩn hóa)**\n",
    "\n",
    "### 📌 Định nghĩa\n",
    "\n",
    "* Một tập hợp vector là **orthonormal** nếu:\n",
    "\n",
    "  1. Các vector **trực giao** với nhau\n",
    "  2. Mỗi vector đều là **unit vector** (độ dài = 1)\n",
    "\n",
    "### 💡 Ví dụ\n",
    "\n",
    "Trong 2D:\n",
    "\n",
    "* $\\mathbf{e}_1 = [1, 0]$, $\\mathbf{e}_2 = [0, 1]$\n",
    "* $\\mathbf{e}_1 \\cdot \\mathbf{e}_2 = 0$ (trực giao)\n",
    "* $\\|\\mathbf{e}_1\\| = \\|\\mathbf{e}_2\\| = 1$ (chuẩn hóa)\n",
    "  ⇒ Bộ $\\{\\mathbf{e}_1, \\mathbf{e}_2\\}$ là **orthonormal basis**.\n",
    "\n",
    "---\n",
    "\n",
    "## 📌 Tóm tắt so sánh\n",
    "\n",
    "| Thuộc tính         | Basis                    | Orthogonal | Orthonormal |\n",
    "| ------------------ | ------------------------ | ---------- | ----------- |\n",
    "| Tuyến tính độc lập | ✅                        | ✅          | ✅           |\n",
    "| Trực giao          | ❌ (có thể có hoặc không) | ✅          | ✅           |\n",
    "| Độ dài = 1         | ❌                        | ❌          | ✅           |\n",
    "| Sinh ra không gian | ✅                        | ✅          | ✅           |\n",
    "\n"
   ]
  },
  {
   "cell_type": "code",
   "execution_count": 1,
   "id": "2d6f3226",
   "metadata": {},
   "outputs": [],
   "source": [
    "import numpy as np"
   ]
  },
  {
   "cell_type": "code",
   "execution_count": 2,
   "id": "9d8be1aa",
   "metadata": {},
   "outputs": [],
   "source": [
    "i = np.array([1,0])\n",
    "j = np.array([0,1])"
   ]
  },
  {
   "cell_type": "code",
   "execution_count": 4,
   "id": "6c078f8b",
   "metadata": {},
   "outputs": [
    {
     "data": {
      "text/plain": [
       "0"
      ]
     },
     "execution_count": 4,
     "metadata": {},
     "output_type": "execute_result"
    }
   ],
   "source": [
    "np.dot(i,j) # Should be 0, indicating orthogonality"
   ]
  }
 ],
 "metadata": {
  "kernelspec": {
   "display_name": "venv (3.8.10)",
   "language": "python",
   "name": "python3"
  },
  "language_info": {
   "codemirror_mode": {
    "name": "ipython",
    "version": 3
   },
   "file_extension": ".py",
   "mimetype": "text/x-python",
   "name": "python",
   "nbconvert_exporter": "python",
   "pygments_lexer": "ipython3",
   "version": "3.8.10"
  }
 },
 "nbformat": 4,
 "nbformat_minor": 5
}
