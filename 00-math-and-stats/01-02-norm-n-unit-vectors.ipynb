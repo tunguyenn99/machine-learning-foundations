{
 "cells": [
  {
   "cell_type": "markdown",
   "id": "54cccc84",
   "metadata": {},
   "source": [
    "# **I. Norms**"
   ]
  },
  {
   "cell_type": "markdown",
   "id": "9aba2950",
   "metadata": {},
   "source": [
    "## 1. Khái niệm\n",
    "\n",
    "**Norm của vector** (Vector Norm) là một **đại lượng đo “độ dài” hoặc “kích thước” của vector** trong không gian vector.\n",
    "Nói cách khác, norm cho ta biết một vector “lớn” đến mức nào, bất kể hướng của nó.\n",
    "\n",
    "---\n",
    "\n",
    "## 2. Ý nghĩa\n",
    "\n",
    "* Giúp đo khoảng cách giữa hai điểm trong không gian\n",
    "* Dùng để chuẩn hóa vector (tạo vector đơn vị)\n",
    "* Ứng dụng nhiều trong Machine Learning, Deep Learning: regularization (L1, L2), tính loss, tối ưu\n",
    "\n",
    "---\n",
    "\n",
    "## 3. Ứng dụng trong ML/DL\n",
    "\n",
    "* **Chuẩn hóa dữ liệu**: đưa vector về cùng độ dài để mô hình học ổn định\n",
    "* **Regularization**:\n",
    "\n",
    "  * L1: thúc đẩy mô hình học ra vector hệ số thưa (sparse)\n",
    "  * L2: giảm độ lớn các hệ số, tránh overfitting\n",
    "* **Tối ưu hóa**: đo độ lớn của gradient"
   ]
  },
  {
   "cell_type": "markdown",
   "id": "0af6eeb8",
   "metadata": {
    "vscode": {
     "languageId": "plaintext"
    }
   },
   "source": [
    "## 4. Các loại Vector Norm\n",
    "\n",
    "---\n",
    "\n",
    "##### 1️⃣ **L1 Norm – Manhattan Norm**\n",
    "\n",
    "$$\n",
    "\\|\\mathbf{x}\\|_1 = \\sum_{i=1}^n |x_i|\n",
    "$$\n",
    "\n",
    "- Tính **tổng giá trị tuyệt đối** của các thành phần vector  \n",
    "- Đo khoảng cách kiểu “đi dọc trục” (*Manhattan distance*)\n",
    "\n",
    "**Ví dụ**:  \n",
    "\n",
    "$$\n",
    "\\mathbf{x} = [3, -4, 5]\n",
    "$$\n",
    "\n",
    "$$\n",
    "\\|\\mathbf{x}\\|_1 = |3| + |-4| + |5| = 3 + 4 + 5 = 12\n",
    "$$\n",
    "\n",
    "---\n",
    "\n",
    "##### 2️⃣ **L2 Norm – Euclidean Norm**\n",
    "\n",
    "$$\n",
    "\\|\\mathbf{x}\\|_2 = \\sqrt{\\sum_{i=1}^n x_i^2}\n",
    "$$\n",
    "\n",
    "- Đo **khoảng cách Euclid** (đường thẳng từ gốc tới điểm)  \n",
    "- Phổ biến nhất trong hình học và Machine Learning\n",
    "\n",
    "**Ví dụ**:  \n",
    "\n",
    "$$\n",
    "\\mathbf{x} = [3, -4]\n",
    "$$\n",
    "\n",
    "$$\n",
    "\\|\\mathbf{x}\\|_2 = \\sqrt{3^2 + (-4)^2} = \\sqrt{9 + 16} = 5\n",
    "$$\n",
    "\n",
    "---\n",
    "\n",
    "##### 3️⃣ **Lp Norm – p-Norm (Tổng quát)**\n",
    "\n",
    "$$\n",
    "\\|\\mathbf{x}\\|_p = \\left( \\sum_{i=1}^n |x_i|^p \\right)^{\\frac{1}{p}}, \\quad p \\ge 1\n",
    "$$\n",
    "\n",
    "- Tổng quát cho mọi \\(p\\)  \n",
    "- L1, L2 là **trường hợp đặc biệt** của Lp\n",
    "\n",
    "**Ví dụ**:  \n",
    "\n",
    "$$\n",
    "p = 3, \\quad \\mathbf{x} = [1, 2]\n",
    "$$\n",
    "\n",
    "$$\n",
    "\\|\\mathbf{x}\\|_3 = \\left( |1|^3 + |2|^3 \\right)^{\\frac{1}{3}} = (1 + 8)^{\\frac{1}{3}} \\approx 2.08\n",
    "$$\n",
    "\n",
    "---\n",
    "\n",
    "##### 4️⃣ **L∞ Norm – Max Norm**\n",
    "\n",
    "$$\n",
    "\\|\\mathbf{x}\\|_\\infty = \\max_{i} |x_i|\n",
    "$$\n",
    "\n",
    "- Lấy **thành phần có giá trị tuyệt đối lớn nhất**  \n",
    "- Dùng khi muốn đo “độ dài” dựa trên thành phần trội nhất\n",
    "\n",
    "**Ví dụ**:  \n",
    "\n",
    "$$\n",
    "\\mathbf{x} = [3, -4, 2]\n",
    "$$\n",
    "\n",
    "$$\n",
    "\\|\\mathbf{x}\\|_\\infty = \\max(3, 4, 2) = 4\n",
    "$$\n"
   ]
  },
  {
   "cell_type": "markdown",
   "id": "13bd1166",
   "metadata": {},
   "source": [
    "## 5. Code Demo"
   ]
  },
  {
   "cell_type": "markdown",
   "id": "2c7dbff5",
   "metadata": {},
   "source": [
    "$L^2$ Norm"
   ]
  },
  {
   "cell_type": "code",
   "execution_count": 2,
   "id": "275b99a7",
   "metadata": {},
   "outputs": [],
   "source": [
    "import numpy as np"
   ]
  },
  {
   "cell_type": "code",
   "execution_count": 3,
   "id": "dcf87e88",
   "metadata": {},
   "outputs": [
    {
     "data": {
      "text/plain": [
       "array([25,  2,  5])"
      ]
     },
     "execution_count": 3,
     "metadata": {},
     "output_type": "execute_result"
    }
   ],
   "source": [
    "x = np.array([25,2,5])\n",
    "x"
   ]
  },
  {
   "cell_type": "code",
   "execution_count": 4,
   "id": "742d2b6a",
   "metadata": {},
   "outputs": [
    {
     "data": {
      "text/plain": [
       "25.573423705088842"
      ]
     },
     "execution_count": 4,
     "metadata": {},
     "output_type": "execute_result"
    }
   ],
   "source": [
    "(25**2 + 2**2 + 5**2)**0.5"
   ]
  },
  {
   "cell_type": "code",
   "execution_count": 5,
   "id": "48355134",
   "metadata": {},
   "outputs": [
    {
     "data": {
      "text/plain": [
       "25.573423705088842"
      ]
     },
     "execution_count": 5,
     "metadata": {},
     "output_type": "execute_result"
    }
   ],
   "source": [
    "np.linalg.norm(x)"
   ]
  },
  {
   "cell_type": "markdown",
   "id": "ed90a593",
   "metadata": {},
   "source": [
    "$L^1$ Norm"
   ]
  },
  {
   "cell_type": "code",
   "execution_count": 6,
   "id": "34fbbe17",
   "metadata": {},
   "outputs": [
    {
     "data": {
      "text/plain": [
       "array([25,  2,  5])"
      ]
     },
     "execution_count": 6,
     "metadata": {},
     "output_type": "execute_result"
    }
   ],
   "source": [
    "x"
   ]
  },
  {
   "cell_type": "code",
   "execution_count": 7,
   "id": "abd27a0c",
   "metadata": {},
   "outputs": [
    {
     "data": {
      "text/plain": [
       "32"
      ]
     },
     "execution_count": 7,
     "metadata": {},
     "output_type": "execute_result"
    }
   ],
   "source": [
    "np.abs(25) + np.abs(2) + np.abs(5)"
   ]
  },
  {
   "cell_type": "markdown",
   "id": "865aafdf",
   "metadata": {},
   "source": [
    "Squared $L^2$ Norm"
   ]
  },
  {
   "cell_type": "code",
   "execution_count": 8,
   "id": "9853ad18",
   "metadata": {},
   "outputs": [
    {
     "data": {
      "text/plain": [
       "array([25,  2,  5])"
      ]
     },
     "execution_count": 8,
     "metadata": {},
     "output_type": "execute_result"
    }
   ],
   "source": [
    "x"
   ]
  },
  {
   "cell_type": "code",
   "execution_count": 9,
   "id": "86613430",
   "metadata": {},
   "outputs": [
    {
     "data": {
      "text/plain": [
       "654"
      ]
     },
     "execution_count": 9,
     "metadata": {},
     "output_type": "execute_result"
    }
   ],
   "source": [
    "(25**2 + 2**2 + 5**2)"
   ]
  },
  {
   "cell_type": "code",
   "execution_count": 10,
   "id": "9601f41d",
   "metadata": {},
   "outputs": [
    {
     "data": {
      "text/plain": [
       "654"
      ]
     },
     "execution_count": 10,
     "metadata": {},
     "output_type": "execute_result"
    }
   ],
   "source": [
    "np.dot(x,x)"
   ]
  },
  {
   "cell_type": "markdown",
   "id": "8e98c938",
   "metadata": {},
   "source": [
    "Max Norm"
   ]
  },
  {
   "cell_type": "code",
   "execution_count": 11,
   "id": "2dec83af",
   "metadata": {},
   "outputs": [
    {
     "data": {
      "text/plain": [
       "array([25,  2,  5])"
      ]
     },
     "execution_count": 11,
     "metadata": {},
     "output_type": "execute_result"
    }
   ],
   "source": [
    "x"
   ]
  },
  {
   "cell_type": "code",
   "execution_count": 12,
   "id": "5352271c",
   "metadata": {},
   "outputs": [
    {
     "data": {
      "text/plain": [
       "25"
      ]
     },
     "execution_count": 12,
     "metadata": {},
     "output_type": "execute_result"
    }
   ],
   "source": [
    "np.max([np.abs(25), np.abs(2), np.abs(5)])"
   ]
  },
  {
   "cell_type": "markdown",
   "id": "2078d322",
   "metadata": {},
   "source": [
    "# **II. Unit Vectors**"
   ]
  },
  {
   "cell_type": "markdown",
   "id": "382661da",
   "metadata": {},
   "source": [
    "## 1. Định nghĩa\n",
    "\n",
    "Vector đơn vị $u$ là một vector có độ dài (norm) bằng 1.\n",
    "\n",
    "Công thức kiểm tra:\n",
    "\n",
    "$$\n",
    "\\|\\mathbf{u}\\| = 1\n",
    "$$\n",
    "\n",
    "---\n",
    "\n",
    "## 2. Cách chuẩn hóa vector thành Unit Vector\n",
    "\n",
    "Cho một vector bất kỳ, unit vector cùng hướng được tính bằng:\n",
    "\n",
    "$u$ = $x$ / $||x||$\n",
    "\n",
    "Trong đó:\n",
    "- $x$ là vector gốc\n",
    "\n",
    "- $||x||$ là độ dài (norm) của vector gốc\n",
    "---\n",
    "\n",
    "## 3. Ví dụ\n",
    "\n",
    "Cho vector:\n",
    "\n",
    "$$\n",
    "\\mathbf{x} = [3, 4]\n",
    "$$\n",
    "\n",
    "Tính norm:\n",
    "\n",
    "$$\n",
    "\\|\\mathbf{x}\\|_2 = \\sqrt{3^2 + 4^2} = 5\n",
    "$$\n",
    "\n",
    "Vector đơn vị:\n",
    "\n",
    "$$\n",
    "\\mathbf{u} = \\frac{[3, 4]}{5} = \\left[ \\frac{3}{5}, \\frac{4}{5} \\right]\n",
    "$$\n",
    "\n",
    "---\n",
    "\n",
    "## 4. Ứng dụng\n",
    "- Xác định **hướng** trong không gian mà không bị ảnh hưởng bởi độ lớn\n",
    "- Chuẩn hóa dữ liệu trong Machine Learning\n",
    "- Tính vector pháp tuyến (normal vector) trong đồ họa máy tính\n"
   ]
  }
 ],
 "metadata": {
  "kernelspec": {
   "display_name": "venv (3.8.10)",
   "language": "python",
   "name": "python3"
  },
  "language_info": {
   "codemirror_mode": {
    "name": "ipython",
    "version": 3
   },
   "file_extension": ".py",
   "mimetype": "text/x-python",
   "name": "python",
   "nbconvert_exporter": "python",
   "pygments_lexer": "ipython3",
   "version": "3.8.10"
  }
 },
 "nbformat": 4,
 "nbformat_minor": 5
}
